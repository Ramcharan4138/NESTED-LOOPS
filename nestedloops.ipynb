{
 "cells": [
  {
   "cell_type": "code",
   "execution_count": 26,
   "id": "746e6e23-4f1a-4db7-82c7-4a3e39ff3846",
   "metadata": {},
   "outputs": [
    {
     "name": "stdin",
     "output_type": "stream",
     "text": [
      "Enter the size of n: 2\n"
     ]
    },
    {
     "name": "stdout",
     "output_type": "stream",
     "text": [
      "^ ^ \n",
      "^ ^ \n"
     ]
    }
   ],
   "source": [
    "#### nested loops\n",
    "#right angle triangle\n",
    "n=int(input(\"Enter the size of n:\"))\n",
    "for i in range(n):\n",
    "    for j in range(n):\n",
    "        print(\"^\",end=' ')\n",
    "    print()"
   ]
  },
  {
   "cell_type": "code",
   "execution_count": 28,
   "id": "65752830-ecf3-4bd2-bd5e-17fd69e6b9e7",
   "metadata": {},
   "outputs": [
    {
     "name": "stdin",
     "output_type": "stream",
     "text": [
      "Enter the size of n: 4\n"
     ]
    },
    {
     "name": "stdout",
     "output_type": "stream",
     "text": [
      "0 0 0 0 \n",
      "1 1 1 1 \n",
      "2 2 2 2 \n",
      "3 3 3 3 \n"
     ]
    }
   ],
   "source": [
    "#### nested loops\n",
    "n=int(input(\"Enter the size of n:\"))\n",
    "for i in range(n):\n",
    "    for j in range(n):\n",
    "        print(i,end=' ')\n",
    "    print()"
   ]
  },
  {
   "cell_type": "code",
   "execution_count": 30,
   "id": "373e5965-d064-47d7-9c0a-6d63fe8b2926",
   "metadata": {},
   "outputs": [
    {
     "name": "stdin",
     "output_type": "stream",
     "text": [
      "Enter the size of n: 4\n"
     ]
    },
    {
     "name": "stdout",
     "output_type": "stream",
     "text": [
      "0 1 2 3 \n",
      "0 1 2 3 \n",
      "0 1 2 3 \n",
      "0 1 2 3 \n"
     ]
    }
   ],
   "source": [
    "#### nested loops\n",
    "n=int(input(\"Enter the size of n:\"))\n",
    "for i in range(n):\n",
    "    for j in range(n):\n",
    "        print(j,end=' ')\n",
    "    print()"
   ]
  },
  {
   "cell_type": "code",
   "execution_count": 32,
   "id": "2a2f0e5a-aa98-4720-b3d0-f332ab36268c",
   "metadata": {},
   "outputs": [
    {
     "name": "stdin",
     "output_type": "stream",
     "text": [
      "Enter the size of n: 4\n"
     ]
    },
    {
     "name": "stdout",
     "output_type": "stream",
     "text": [
      "* * * * \n",
      "* * * * \n",
      "* * * * \n",
      "* * * * \n"
     ]
    }
   ],
   "source": [
    "#### nested loops\n",
    "n=int(input(\"Enter the size of n:\"))\n",
    "for i in range(n):\n",
    "    for j in range(n):\n",
    "        print('*',end=' ')\n",
    "    print()"
   ]
  },
  {
   "cell_type": "code",
   "execution_count": 40,
   "id": "36608771-be2a-494d-9300-8d9242f1895b",
   "metadata": {},
   "outputs": [
    {
     "name": "stdout",
     "output_type": "stream",
     "text": [
      "\n",
      "*\n",
      "**\n",
      "***\n",
      "****\n"
     ]
    }
   ],
   "source": [
    "#right angled triangle using a single for loop\n",
    "for i in range(5):\n",
    "    print(\"*\" *i)"
   ]
  },
  {
   "cell_type": "code",
   "execution_count": 36,
   "id": "1ec43095-4444-4034-8578-84b2c7fac0e4",
   "metadata": {},
   "outputs": [
    {
     "name": "stdout",
     "output_type": "stream",
     "text": [
      "*****\n",
      "*****\n",
      "*****\n",
      "*****\n",
      "*****\n"
     ]
    }
   ],
   "source": [
    "#right angled triangle using a single for loop\n",
    "for i in range(5):\n",
    "    print(\"*\" *5)"
   ]
  },
  {
   "cell_type": "code",
   "execution_count": 42,
   "id": "1f900241-b738-48fa-b723-35e827b2cd78",
   "metadata": {},
   "outputs": [
    {
     "name": "stdin",
     "output_type": "stream",
     "text": [
      "Enter the size of n: 5\n"
     ]
    },
    {
     "name": "stdout",
     "output_type": "stream",
     "text": [
      "* * * * * \n",
      "*       * \n",
      "*       * \n",
      "*       * \n",
      "* * * * * \n"
     ]
    }
   ],
   "source": [
    "n=int(input(\"Enter the size of n:\"))\n",
    "for i in range(n):\n",
    "    for j in range(n):\n",
    "        if i==0 or i==n-1 or j==0 or j==n-1:\n",
    "            print('*',end=' ')\n",
    "        else:\n",
    "            print(' ',end=' ')\n",
    "    print()"
   ]
  },
  {
   "cell_type": "code",
   "execution_count": 46,
   "id": "6bb92bc1-5eb6-431a-af46-b7a5f3367617",
   "metadata": {},
   "outputs": [
    {
     "name": "stdout",
     "output_type": "stream",
     "text": [
      "R \n",
      "R a \n",
      "R a m \n",
      "R a m c \n",
      "R a m c h \n",
      "R a m c h a \n",
      "R a m c h a r \n",
      "R a m c h a r a \n",
      "R a m c h a r a n \n"
     ]
    }
   ],
   "source": [
    "text='Ramcharan'\n",
    "n=len(text)\n",
    "for i in range(n):\n",
    "    for j in range(i+1):\n",
    "        print(text[j],end=' ')\n",
    "    print()"
   ]
  },
  {
   "cell_type": "code",
   "execution_count": 54,
   "id": "ce347c85-fc74-4e86-a79f-fe34f08c74cd",
   "metadata": {},
   "outputs": [
    {
     "name": "stdin",
     "output_type": "stream",
     "text": [
      "Enter the size of n: 7\n"
     ]
    },
    {
     "name": "stdout",
     "output_type": "stream",
     "text": [
      "* * * * * * * \n",
      "  *       *   \n",
      "    *   *     \n",
      "      *       \n",
      "    *   *     \n",
      "  *       *   \n",
      "* * * * * * * \n"
     ]
    }
   ],
   "source": [
    "n=int(input(\"Enter the size of n:\"))\n",
    "for i in range(n):\n",
    "    for j in range(n):\n",
    "        if i==0 or i==n-1 or i==j or i+j==n-1:\n",
    "            print('*',end=' ')\n",
    "        else:\n",
    "            print(' ',end=' ')\n",
    "    print()"
   ]
  },
  {
   "cell_type": "code",
   "execution_count": 56,
   "id": "662930be-52e2-4b2f-90cc-3a0d7bfd38de",
   "metadata": {},
   "outputs": [
    {
     "name": "stdout",
     "output_type": "stream",
     "text": [
      "* \n",
      "* * \n",
      "* * * \n",
      "* * * * \n",
      "* * * * * \n",
      "* * * * \n",
      "* * * \n",
      "* * \n",
      "* \n"
     ]
    }
   ],
   "source": [
    "n=5\n",
    "for i in range(1,2*n):\n",
    "    s= i if i<=n else 2*n-i\n",
    "    for j in range(s):\n",
    "        print(\"*\",end=' ')\n",
    "    print()"
   ]
  },
  {
   "cell_type": "code",
   "execution_count": 72,
   "id": "885abefd-92a7-4810-8760-c05ebc173d38",
   "metadata": {},
   "outputs": [
    {
     "name": "stdout",
     "output_type": "stream",
     "text": [
      "*#*# \n",
      "*#*# *#*# \n",
      "*#*# *#*# *#*# \n",
      "*#*# *#*# *#*# *#*# \n",
      "*#*# *#*# *#*# *#*# *#*# \n",
      "*#*# *#*# *#*# *#*# *#*# *#*# \n",
      "*#*# *#*# *#*# *#*# *#*# *#*# *#*# \n",
      "*#*# *#*# *#*# *#*# *#*# *#*# *#*# *#*# \n",
      "*#*# *#*# *#*# *#*# *#*# *#*# *#*# *#*# *#*# \n",
      "*#*# *#*# *#*# *#*# *#*# *#*# *#*# *#*# \n",
      "*#*# *#*# *#*# *#*# *#*# *#*# *#*# \n",
      "*#*# *#*# *#*# *#*# *#*# *#*# \n",
      "*#*# *#*# *#*# *#*# *#*# \n",
      "*#*# *#*# *#*# *#*# \n",
      "*#*# *#*# *#*# \n",
      "*#*# *#*# \n",
      "*#*# \n",
      "\n"
     ]
    }
   ],
   "source": [
    "n=9\n",
    "for i in range(1,n+1):\n",
    "    for j in range(i):\n",
    "        print(\"*#*#\",end=' ')\n",
    "    print()\n",
    "for i in range(1,n+1):\n",
    "    for j in range(n-i):\n",
    "        print(\"*#*#\",end=' ')\n",
    "    print()"
   ]
  },
  {
   "cell_type": "code",
   "execution_count": 74,
   "id": "67321ce1-60b4-451f-83bf-0d4fbe5d46b1",
   "metadata": {},
   "outputs": [
    {
     "name": "stdout",
     "output_type": "stream",
     "text": [
      "        * \n",
      "      * * * \n",
      "    * * * * * \n",
      "  * * * * * * * \n",
      "* * * * * * * * * \n"
     ]
    }
   ],
   "source": [
    "n=5\n",
    "for i in range(1,n+1):\n",
    "    for s in range(n-i):\n",
    "        print(' ',end=' ')\n",
    "    for st in range(2*i-1):\n",
    "        print('*',end=' ')\n",
    "    print()"
   ]
  },
  {
   "cell_type": "code",
   "execution_count": 78,
   "id": "8837f028-b96f-4272-a3bb-e2cfdfb50e81",
   "metadata": {},
   "outputs": [
    {
     "name": "stdin",
     "output_type": "stream",
     "text": [
      "  7\n"
     ]
    },
    {
     "name": "stdout",
     "output_type": "stream",
     "text": [
      "            1   \n",
      "          1   1   \n",
      "        1   2   1   \n",
      "      1   3   3   1   \n",
      "    1   4   6   4   1   \n",
      "  1   5   10   10   5   1   \n",
      "1   6   15   20   15   6   1   \n"
     ]
    }
   ],
   "source": [
    "#\n",
    "n=int(input(\" \"))\n",
    "for i in range(n):\n",
    "    for s in range(n-i-1):\n",
    "        print(' ',end=' ')\n",
    "    num=1\n",
    "    for j in range(i+1):\n",
    "        print(f\"{num }  \",end=' ')\n",
    "        num=num*(i-j)//(j+1)\n",
    "    print()"
   ]
  },
  {
   "cell_type": "code",
   "execution_count": 80,
   "id": "fd4cd86a-8351-42b9-ab45-8f15ec7613bf",
   "metadata": {},
   "outputs": [
    {
     "name": "stdout",
     "output_type": "stream",
     "text": [
      "1 \n",
      "2 3 \n",
      "4 5 6 \n",
      "7 8 9 10 \n"
     ]
    }
   ],
   "source": [
    "#floyd's triangle\n",
    "r=4\n",
    "n=1\n",
    "for i in range(1,r+1):\n",
    "    for j in range(i):\n",
    "        print(n,end=' ')\n",
    "        n+=1\n",
    "    print()"
   ]
  },
  {
   "cell_type": "code",
   "execution_count": 82,
   "id": "c3159634-da64-4b27-8f19-07289812d468",
   "metadata": {},
   "outputs": [
    {
     "name": "stdout",
     "output_type": "stream",
     "text": [
      "     *\n",
      "    **\n",
      "   ***\n",
      "  ****\n",
      " *****\n"
     ]
    }
   ],
   "source": [
    "n=5\n",
    "for i in range(1, n+1):\n",
    "    print(' '* (n-i), end=' ')\n",
    "    for j in range(i):\n",
    "        print('*', end='')\n",
    "    print()"
   ]
  },
  {
   "cell_type": "code",
   "execution_count": 91,
   "id": "ef9b53b8-b6a6-47fa-9137-7507e9486093",
   "metadata": {},
   "outputs": [
    {
     "name": "stdout",
     "output_type": "stream",
     "text": [
      "      *\n",
      "     **\n",
      "    ***\n",
      "   ****\n",
      "  *****\n",
      "   ****\n",
      "    ***\n",
      "     **\n",
      "      *\n"
     ]
    }
   ],
   "source": [
    "for i in range(1, n+1):\n",
    "    print(' '*(n-i),end='  ')\n",
    "    for j in range(i):\n",
    "        print('*',end='')\n",
    "    print()\n",
    "for i in range(n-1,0,-1):\n",
    "    print(' '*(n-i), end='  ')\n",
    "    for j in range(i):\n",
    "        print('*',end='')\n",
    "    print()"
   ]
  },
  {
   "cell_type": "code",
   "execution_count": null,
   "id": "d69517d3-3c93-4df7-99e3-2be237ee1743",
   "metadata": {},
   "outputs": [],
   "source": [
    "r=3\n",
    "for i in range"
   ]
  }
 ],
 "metadata": {
  "kernelspec": {
   "display_name": "Python [conda env:base] *",
   "language": "python",
   "name": "conda-base-py"
  },
  "language_info": {
   "codemirror_mode": {
    "name": "ipython",
    "version": 3
   },
   "file_extension": ".py",
   "mimetype": "text/x-python",
   "name": "python",
   "nbconvert_exporter": "python",
   "pygments_lexer": "ipython3",
   "version": "3.12.7"
  }
 },
 "nbformat": 4,
 "nbformat_minor": 5
}
